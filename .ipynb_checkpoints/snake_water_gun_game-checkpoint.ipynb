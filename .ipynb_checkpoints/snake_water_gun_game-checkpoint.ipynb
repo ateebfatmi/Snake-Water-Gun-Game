{
 "cells": [
  {
   "cell_type": "code",
   "execution_count": 5,
   "id": "2dadb85c-9c5c-42cd-ae94-a0788e4bab40",
   "metadata": {},
   "outputs": [
    {
     "data": {
      "text/plain": [
       "'\\n1 for snake\\n-1 for water\\n0 for gun\\n'"
      ]
     },
     "execution_count": 5,
     "metadata": {},
     "output_type": "execute_result"
    }
   ],
   "source": [
    "import random\n",
    "'''\n",
    "1 for snake\n",
    "-1 for water\n",
    "0 for gun\n",
    "'''"
   ]
  },
  {
   "cell_type": "code",
   "execution_count": 11,
   "id": "c7cd64be-069f-428b-9b91-394c8668e450",
   "metadata": {},
   "outputs": [
    {
     "name": "stdin",
     "output_type": "stream",
     "text": [
      "Enter your choice (s for Snake, w for Water, g for Gun):  a\n"
     ]
    },
    {
     "name": "stdout",
     "output_type": "stream",
     "text": [
      "Invalid input! Please enter 's', 'w', or 'g'.\n"
     ]
    },
    {
     "ename": "KeyError",
     "evalue": "'a'",
     "output_type": "error",
     "traceback": [
      "\u001b[1;31m---------------------------------------------------------------------------\u001b[0m",
      "\u001b[1;31mKeyError\u001b[0m                                  Traceback (most recent call last)",
      "Cell \u001b[1;32mIn[11], line 11\u001b[0m\n\u001b[0;32m      8\u001b[0m     \u001b[38;5;28mprint\u001b[39m(\u001b[38;5;124m\"\u001b[39m\u001b[38;5;124mInvalid input! Please enter \u001b[39m\u001b[38;5;124m'\u001b[39m\u001b[38;5;124ms\u001b[39m\u001b[38;5;124m'\u001b[39m\u001b[38;5;124m, \u001b[39m\u001b[38;5;124m'\u001b[39m\u001b[38;5;124mw\u001b[39m\u001b[38;5;124m'\u001b[39m\u001b[38;5;124m, or \u001b[39m\u001b[38;5;124m'\u001b[39m\u001b[38;5;124mg\u001b[39m\u001b[38;5;124m'\u001b[39m\u001b[38;5;124m.\u001b[39m\u001b[38;5;124m\"\u001b[39m)\n\u001b[0;32m      9\u001b[0m     exit()\n\u001b[1;32m---> 11\u001b[0m you \u001b[38;5;241m=\u001b[39m youDict[youstr]\n\u001b[0;32m     13\u001b[0m \u001b[38;5;28mprint\u001b[39m(\u001b[38;5;124mf\u001b[39m\u001b[38;5;124m\"\u001b[39m\u001b[38;5;124mYou chose \u001b[39m\u001b[38;5;132;01m{\u001b[39;00mreverseDict[you]\u001b[38;5;132;01m}\u001b[39;00m\u001b[38;5;130;01m\\n\u001b[39;00m\u001b[38;5;124mComputer chose \u001b[39m\u001b[38;5;132;01m{\u001b[39;00mreverseDict[computer]\u001b[38;5;132;01m}\u001b[39;00m\u001b[38;5;124m\"\u001b[39m)\n\u001b[0;32m     15\u001b[0m \u001b[38;5;28;01mif\u001b[39;00m computer \u001b[38;5;241m==\u001b[39m you:\n",
      "\u001b[1;31mKeyError\u001b[0m: 'a'"
     ]
    }
   ],
   "source": [
    "computer = random.choice([-1, 0, 1])\n",
    "youstr = input(\"Enter your choice (s for Snake, w for Water, g for Gun): \")\n",
    "\n",
    "youDict = {\"s\": 1, \"w\": -1, \"g\": 0}\n",
    "reverseDict = {1: \"Snake\", -1: \"Water\", 0: \"Gun\"}\n",
    "\n",
    "if youstr not in youDict:\n",
    "    print(\"Invalid input! Please enter 's', 'w', or 'g'.\")\n",
    "    exit()\n",
    "\n",
    "you = youDict[youstr]\n",
    "\n",
    "print(f\"You chose {reverseDict[you]}\\nComputer chose {reverseDict[computer]}\")\n",
    "\n",
    "if computer == you:\n",
    "    print(\"It's a Draw!\")\n",
    "\n",
    "else:\n",
    "    if computer == -1 and you == 1:\n",
    "        print(\"You Win!\")\n",
    "\n",
    "    elif computer == -1 and you == 0:\n",
    "        print(\"You Lose!\")\n",
    "\n",
    "    elif computer == 1 and you == -1:\n",
    "        print(\"You Lose!\")\n",
    "\n",
    "    elif computer == 1 and you == 0:\n",
    "        print(\"You Win!\")\n",
    "\n",
    "    elif computer == 0 and you == -1:\n",
    "        print(\"You Win!\")\n",
    "\n",
    "    elif computer == 0 and you == 1:\n",
    "        print(\"You Lose!\")\n",
    "\n",
    "    else:\n",
    "        print(\"Something went wrong!\")\n"
   ]
  },
  {
   "cell_type": "code",
   "execution_count": null,
   "id": "d62cc050-39c8-4fce-8097-cc2652dfc692",
   "metadata": {},
   "outputs": [],
   "source": []
  }
 ],
 "metadata": {
  "kernelspec": {
   "display_name": "Python [conda env:base] *",
   "language": "python",
   "name": "conda-base-py"
  },
  "language_info": {
   "codemirror_mode": {
    "name": "ipython",
    "version": 3
   },
   "file_extension": ".py",
   "mimetype": "text/x-python",
   "name": "python",
   "nbconvert_exporter": "python",
   "pygments_lexer": "ipython3",
   "version": "3.12.7"
  }
 },
 "nbformat": 4,
 "nbformat_minor": 5
}
